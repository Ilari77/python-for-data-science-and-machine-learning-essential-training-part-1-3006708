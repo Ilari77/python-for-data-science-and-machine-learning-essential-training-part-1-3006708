{
 "cells": [
  {
   "cell_type": "markdown",
   "id": "c9327e33-5afa-4ffb-aca9-6bdc963ef9ff",
   "metadata": {},
   "source": [
    "## Working with Missing Data in Pandas"
   ]
  },
  {
   "cell_type": "code",
   "execution_count": 1,
   "id": "5be0cfbf-e779-42b3-8bd6-f3dd46888ebb",
   "metadata": {},
   "outputs": [],
   "source": [
    "import numpy as np\n",
    "import pandas as pd\n",
    "\n",
    "from pandas import DataFrame"
   ]
  },
  {
   "cell_type": "markdown",
   "id": "61bbc7e0-5198-4609-a66a-d4b437606dac",
   "metadata": {},
   "source": [
    "### Filling missing values using fillna(), replace() and interpolate()"
   ]
  },
  {
   "cell_type": "code",
   "execution_count": null,
   "id": "74486492",
   "metadata": {},
   "outputs": [],
   "source": [
    "# %% [markdown]\n",
    "# ## Working with Missing Data in Pandas\n",
    "\n",
    "# %%\n",
    "import numpy as np\n",
    "import pandas as pd\n",
    "\n",
    "from pandas import DataFrame\n",
    "\n",
    "# %% [markdown]\n",
    "# ### Filling missing values using fillna(), replace() and interpolate()\n",
    "\n",
    "# %%\n",
    "data = {'names': ['steve','john','richard','sarah','randy','michael','julie'],\n",
    "        'age':[20,22,20,21,24,23,22],\n",
    "        'gender': ['Male','Male','Male','Female','Male','Male','Female'],\n",
    "        'rank':[2,1,4,5,3,7,6]}\n",
    "\n",
    "ranking_df = DataFrame(data)\n",
    "ranking_df.iloc[2:5,1] = np.nan\n",
    "ranking_df.iloc[3:6,3] = np.nan\n",
    "ranking_df.iloc[3,:] = np.nan\n",
    "ranking_df\n",
    "\n",
    "# %%\n",
    "ranking_df.isnull()\n",
    "\n",
    "# %%\n",
    "ranking_df.notnull()\n",
    "\n",
    "# %%\n",
    "bool_series = pd.isnull(ranking_df['age'])\n",
    "ranking_df[bool_series]\n",
    "\n",
    "# %%\n",
    "ranking_df.fillna(0) #fill nan with static number\n",
    "\n",
    "# %%\n",
    "ranking_df.fillna(method='pad') #fill nan with previous valid entry\n",
    "\n",
    "# %%\n",
    "ranking_df.fillna(method='bfill') #fill nan with next valid entry\n",
    "\n",
    "# %%\n",
    "ranking_df.interpolate(method='linear') #fill in nan with decimal \n",
    "#numbers in linear steps\n",
    "\n",
    "# %%\n",
    "ranking_df.dropna() #drop all rows containing a nan\n",
    "\n",
    "# %%\n",
    "ranking_df.dropna(how='all') #drop rows with all nan\n",
    "\n",
    "# %%\n",
    "ranking_df.dropna(axis=1) #all columns with missing values\n",
    "\n",
    "# %%\n",
    "ranking_df.dropna(axis = 0) #drops rows with missing values\n",
    "\n",
    "\n"
   ]
  }
 ],
 "metadata": {
  "kernelspec": {
   "display_name": "Python 3",
   "language": "python",
   "name": "python3"
  },
  "language_info": {
   "codemirror_mode": {
    "name": "ipython",
    "version": 3
   },
   "file_extension": ".py",
   "mimetype": "text/x-python",
   "name": "python",
   "nbconvert_exporter": "python",
   "pygments_lexer": "ipython3",
   "version": "3.10.8"
  }
 },
 "nbformat": 4,
 "nbformat_minor": 5
}
